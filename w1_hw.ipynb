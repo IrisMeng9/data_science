{
  "nbformat": 4,
  "nbformat_minor": 0,
  "metadata": {
    "colab": {
      "provenance": [],
      "authorship_tag": "ABX9TyNIf/e8ySRKL4cTxtYGVU8A",
      "include_colab_link": true
    },
    "kernelspec": {
      "name": "python3",
      "display_name": "Python 3"
    },
    "language_info": {
      "name": "python"
    }
  },
  "cells": [
    {
      "cell_type": "markdown",
      "metadata": {
        "id": "view-in-github",
        "colab_type": "text"
      },
      "source": [
        "<a href=\"https://colab.research.google.com/github/IrisMeng9/data_science/blob/main/w1_hw.ipynb\" target=\"_parent\"><img src=\"https://colab.research.google.com/assets/colab-badge.svg\" alt=\"Open In Colab\"/></a>"
      ]
    },
    {
      "cell_type": "markdown",
      "source": [
        "1.⁠Display Fibonacci Series up to 10 terms"
      ],
      "metadata": {
        "id": "zL3-9wSP23ot"
      }
    },
    {
      "cell_type": "code",
      "source": [
        "fib_num = [1]\n",
        "fib_num.append(1)\n",
        "for i in range(2,10):\n",
        "  new = fib_num[i-1] + fib_num[i-2]\n",
        "  fib_num.append(new)\n",
        "print(fib_num)"
      ],
      "metadata": {
        "colab": {
          "base_uri": "https://localhost:8080/"
        },
        "id": "TNz-d80z23Za",
        "outputId": "db9511c1-6bce-405b-bc5a-e814f0b453f4"
      },
      "execution_count": null,
      "outputs": [
        {
          "output_type": "stream",
          "name": "stdout",
          "text": [
            "[1, 1, 2, 3, 5, 8, 13, 21, 34, 55]\n"
          ]
        }
      ]
    },
    {
      "cell_type": "markdown",
      "source": [
        "2.⁠ ⁠Display numbers at the odd indices of a list"
      ],
      "metadata": {
        "id": "QRLGz9rV2_ll"
      }
    },
    {
      "cell_type": "code",
      "source": [
        "for i in range(len(fib_num)):\n",
        "  if i % 2 != 0:\n",
        "    print(f'The {i}th number is {fib_num[i]}')"
      ],
      "metadata": {
        "colab": {
          "base_uri": "https://localhost:8080/"
        },
        "id": "BGEnio9S23We",
        "outputId": "4c8c3853-5fe2-4aaa-e1a4-2955ea3fe0d2"
      },
      "execution_count": null,
      "outputs": [
        {
          "output_type": "stream",
          "name": "stdout",
          "text": [
            "The 1th number is 1\n",
            "The 3th number is 3\n",
            "The 5th number is 8\n",
            "The 7th number is 21\n",
            "The 9th number is 55\n"
          ]
        }
      ]
    },
    {
      "cell_type": "markdown",
      "source": [
        "3.⁠ ⁠⁠string = \"\"\"\n",
        "\n",
        "I have provided this text to provide tips on creating interesting paragraphs.\n",
        "\n",
        "First, start with a clear topic sentence that introduces the main idea.\n",
        "\n",
        "Then, support the topic sentence with specific details, examples, and evidence.\n",
        "\n",
        "Vary the sentence length and structure to keep the reader engaged.\n",
        "\n",
        "Finally, end with a strong concluding sentence that summarizes the main points.\n",
        "\n",
        "Remember, practice makes perfect!\n",
        "\n",
        "\"\"\"  \n",
        "Your task is to count the number of different words in this text"
      ],
      "metadata": {
        "id": "KfYMMAT03IMV"
      }
    },
    {
      "cell_type": "code",
      "source": [
        "string = \"\"\"\n",
        "  I have provided this text to provide tips on creating interesting paragraphs.\n",
        "  First, start with a clear topic sentence that introduces the main idea.\n",
        "  Then, support the topic sentence with specific details, examples, and evidence.\n",
        "  Vary the sentence length and structure to keep the reader engaged.\n",
        "  Finally, end with a strong concluding sentence that summarizes the main points.\n",
        "  Remember, practice makes perfect!\n",
        "  \"\"\""
      ],
      "metadata": {
        "id": "lyBSh84i23Tn"
      },
      "execution_count": null,
      "outputs": []
    },
    {
      "cell_type": "code",
      "source": [
        "print(f'There are {len(string.split())} words in this text.')\n",
        "print(f'There are {len(set(string.split()))} different words in this text')"
      ],
      "metadata": {
        "colab": {
          "base_uri": "https://localhost:8080/"
        },
        "id": "jXf6CZQq-uQo",
        "outputId": "8127ff45-f070-482e-85a6-8e3d1a9fff48"
      },
      "execution_count": null,
      "outputs": [
        {
          "output_type": "stream",
          "name": "stdout",
          "text": [
            "There are 62 words in this text.\n",
            "There are 47 different words in this text\n"
          ]
        }
      ]
    },
    {
      "cell_type": "markdown",
      "source": [
        "4.⁠ ⁠Write a function count_vowels(word) that takes a word as an argument and returns the number of vowels in the word"
      ],
      "metadata": {
        "id": "z8-0Oqvw3NYv"
      }
    },
    {
      "cell_type": "code",
      "source": [
        "def count_vowels(word):\n",
        "  vowels = ['a','e','i','o','u']\n",
        "  count = 0\n",
        "  for i in word:\n",
        "    if i in vowels:\n",
        "      count += 1\n",
        "  return count\n",
        "\n",
        "count_vowels('banana')"
      ],
      "metadata": {
        "colab": {
          "base_uri": "https://localhost:8080/"
        },
        "id": "UBQJ7HYL23Qo",
        "outputId": "7d6199c5-f0e4-40ee-8299-fee11d23eb4b"
      },
      "execution_count": null,
      "outputs": [
        {
          "output_type": "execute_result",
          "data": {
            "text/plain": [
              "3"
            ]
          },
          "metadata": {},
          "execution_count": 21
        }
      ]
    },
    {
      "cell_type": "markdown",
      "source": [
        "5.⁠ ⁠Iterate through the following list of animals and print each one in all caps.\n",
        "\n",
        "animals=['tiger', 'elephant', 'monkey', 'zebra', 'panther']\n",
        "\n"
      ],
      "metadata": {
        "id": "3RNCZ0qE3QFY"
      }
    },
    {
      "cell_type": "code",
      "execution_count": null,
      "metadata": {
        "id": "TtYeN3Eb5vw0",
        "colab": {
          "base_uri": "https://localhost:8080/"
        },
        "outputId": "1a045a93-9f27-4bc6-ee50-6c36d087a2e7"
      },
      "outputs": [
        {
          "output_type": "stream",
          "name": "stdout",
          "text": [
            "TIGER\n",
            "ELEPHANT\n",
            "MONKEY\n",
            "ZEBRA\n",
            "PANTHER\n"
          ]
        }
      ],
      "source": [
        "animals=['tiger', 'elephant', 'monkey', 'zebra', 'panther']\n",
        "for i in animals:\n",
        "  print(i.upper())"
      ]
    },
    {
      "cell_type": "markdown",
      "source": [
        "6.⁠ ⁠Write a program that iterates from 1 to 20, printing each number and whether it's odd or even.\n"
      ],
      "metadata": {
        "id": "vLJPdwuW3SBe"
      }
    },
    {
      "cell_type": "code",
      "source": [
        "for i in range(1,21):\n",
        "  if i % 2 == 0:\n",
        "    print(f'{i} is even')\n",
        "  else:\n",
        "    print(f'{i} is odd')"
      ],
      "metadata": {
        "colab": {
          "base_uri": "https://localhost:8080/"
        },
        "id": "aaO-l9G23Rq9",
        "outputId": "0237afcc-7714-4023-fbdb-68d159de30eb"
      },
      "execution_count": null,
      "outputs": [
        {
          "output_type": "stream",
          "name": "stdout",
          "text": [
            "1 is odd\n",
            "2 is even\n",
            "3 is odd\n",
            "4 is even\n",
            "5 is odd\n",
            "6 is even\n",
            "7 is odd\n",
            "8 is even\n",
            "9 is odd\n",
            "10 is even\n",
            "11 is odd\n",
            "12 is even\n",
            "13 is odd\n",
            "14 is even\n",
            "15 is odd\n",
            "16 is even\n",
            "17 is odd\n",
            "18 is even\n",
            "19 is odd\n",
            "20 is even\n"
          ]
        }
      ]
    },
    {
      "cell_type": "markdown",
      "source": [
        "\n",
        "7.⁠ ⁠Write a function sum_of_integers(a, b) that takes two integers as input from the user and returns their sum."
      ],
      "metadata": {
        "id": "FyTrbXFR3TPE"
      }
    },
    {
      "cell_type": "code",
      "source": [
        "def sum_of_integers():\n",
        "  a,b = map(int,input('Please enter 2 numbers seperated by space: ').split())\n",
        "  return a+b\n",
        "\n",
        "sum_of_integers()"
      ],
      "metadata": {
        "colab": {
          "base_uri": "https://localhost:8080/"
        },
        "id": "kUI4iFks3Uc9",
        "outputId": "ca7efc61-f7ff-4b1c-fa0e-5c0746b75b54"
      },
      "execution_count": null,
      "outputs": [
        {
          "name": "stdout",
          "output_type": "stream",
          "text": [
            "Please enter 2 numbers seperated by space: 5 6\n"
          ]
        },
        {
          "output_type": "execute_result",
          "data": {
            "text/plain": [
              "11"
            ]
          },
          "metadata": {},
          "execution_count": 29
        }
      ]
    },
    {
      "cell_type": "markdown",
      "source": [
        "\n",
        "\n",
        "---\n",
        "\n"
      ],
      "metadata": {
        "id": "C61WnZNuDjcz"
      }
    },
    {
      "cell_type": "code",
      "source": [
        "books = [\n",
        "    {\n",
        "        \"title\": \"The Great Gatsby\",\n",
        "        \"author\": \"F. Scott Fitzgerald\",\n",
        "        \"genre\": \"Fiction\",\n",
        "        \"rating\": 4.2\n",
        "    },\n",
        "    {\n",
        "        \"title\": \"To Kill a Mockingbird\",\n",
        "        \"author\": \"Harper Lee\",\n",
        "        \"genre\": \"Classic\",\n",
        "        \"rating\": 4.5\n",
        "    },\n",
        "    {\n",
        "        \"title\": \"1984\",\n",
        "        \"author\": \"George Orwell\",\n",
        "        \"genre\": \"Dystopian\",\n",
        "        \"rating\": 4.8\n",
        "    },\n",
        "    {\n",
        "        \"title\": \"Pride and Prejudice\",\n",
        "        \"author\": \"Jane Austen\",\n",
        "        \"genre\": \"Romance\",\n",
        "        \"rating\": 4.7\n",
        "    },\n",
        "    {\n",
        "        \"title\": \"Harry Potter and the Sorcerer's Stone\",\n",
        "        \"author\": \"J.K. Rowling\",\n",
        "        \"genre\": \"Fantasy\",\n",
        "        \"rating\": 4.9\n",
        "    },\n",
        "    {\n",
        "        \"title\": \"The Catcher in the Rye\",\n",
        "        \"author\": \"J.D. Salinger\",\n",
        "        \"genre\": \"Coming-of-age\",\n",
        "        \"rating\": 4.1\n",
        "    }\n",
        "]"
      ],
      "metadata": {
        "id": "NpmuW20wBain"
      },
      "execution_count": null,
      "outputs": []
    },
    {
      "cell_type": "markdown",
      "source": [
        "Checking Book Ratings\n",
        "\n",
        "Write a function check_rating(book) that takes a book dictionary and returns True if the rating is greater than 4.5, and False otherwise. Additionally, modify the function to return 'low' if the rating is less than or equal to 4.0, 'medium' if it's greater than 4.0 but less than or equal to 4.5, and 'high' if it's greater than 4.5."
      ],
      "metadata": {
        "id": "i00nitAxDpOi"
      }
    },
    {
      "cell_type": "code",
      "source": [
        "def check_rating(book):\n",
        "  if book['rating'] > 4.5:\n",
        "    return True\n",
        "  else:\n",
        "    return False"
      ],
      "metadata": {
        "id": "4jKuy3XIDozC"
      },
      "execution_count": null,
      "outputs": []
    },
    {
      "cell_type": "code",
      "source": [
        "for i in books:\n",
        "  print(check_rating(i))"
      ],
      "metadata": {
        "colab": {
          "base_uri": "https://localhost:8080/"
        },
        "id": "NZ6UcFZLEkYF",
        "outputId": "e8aa63f6-b47e-4c35-cccb-38948afcd450"
      },
      "execution_count": null,
      "outputs": [
        {
          "output_type": "stream",
          "name": "stdout",
          "text": [
            "False\n",
            "False\n",
            "True\n",
            "True\n",
            "True\n",
            "False\n"
          ]
        }
      ]
    },
    {
      "cell_type": "code",
      "source": [
        "def check_rating(book):\n",
        "  if book['rating'] > 4.5:\n",
        "      return 'high'\n",
        "  elif book['rating'] <= 4.0:\n",
        "    return 'low'\n",
        "  else:\n",
        "    return 'medium'\n",
        "\n",
        "for i in books:\n",
        "  print(check_rating(i))"
      ],
      "metadata": {
        "colab": {
          "base_uri": "https://localhost:8080/"
        },
        "id": "cUx-mtfcDou0",
        "outputId": "c4f5caa0-a0d2-434a-dd01-4d6a34004595"
      },
      "execution_count": null,
      "outputs": [
        {
          "output_type": "stream",
          "name": "stdout",
          "text": [
            "medium\n",
            "medium\n",
            "high\n",
            "high\n",
            "high\n",
            "medium\n"
          ]
        }
      ]
    },
    {
      "cell_type": "markdown",
      "source": [
        "Average Rating by Genre\n",
        "\n",
        "Write a function average_rating_by_genre(books, genre) that accepts the list of books and a genre, and returns the average rating for that genre. If the genre does not exist in the list, return an appropriate message.\n"
      ],
      "metadata": {
        "id": "soBQljRzFwwJ"
      }
    },
    {
      "cell_type": "code",
      "source": [
        "def average_rating_by_genre(books, genre):\n",
        "  genre_score = 0\n",
        "  count = 0\n",
        "  for i in books:\n",
        "    if i['genre'] == genre:\n",
        "      genre_score += (i['rating'])\n",
        "      count += 1\n",
        "\n",
        "  if count == 0:\n",
        "      print('This genre does not exist in the list')\n",
        "  return (genre_score/count)\n",
        "\n",
        "print(average_rating_by_genre(books,'Fiction'))"
      ],
      "metadata": {
        "colab": {
          "base_uri": "https://localhost:8080/"
        },
        "id": "l0jCCLRPDorR",
        "outputId": "fb9e1009-c5d0-4ddf-f0bf-e9e28daedb60"
      },
      "execution_count": null,
      "outputs": [
        {
          "output_type": "stream",
          "name": "stdout",
          "text": [
            "4.2\n"
          ]
        }
      ]
    },
    {
      "cell_type": "markdown",
      "source": [
        "Books by Author\n",
        "\n",
        "Write a function books_by_author(books, author) that accepts the book list and an author's name, and returns a list of all the books written by that author. If the author does not exist, raise a custom error."
      ],
      "metadata": {
        "id": "5AHWxB-pIHxl"
      }
    },
    {
      "cell_type": "code",
      "source": [
        "def books_by_author(books, author):\n",
        "  bk_list = []\n",
        "  for i in books:\n",
        "    if i['author'] == author:\n",
        "      bk_list.append(i)\n",
        "\n",
        "  if not bk_list:\n",
        "    print('This author does not exist!')\n",
        "\n",
        "  return bk_list\n",
        "\n"
      ],
      "metadata": {
        "id": "X6ivM244GzKo"
      },
      "execution_count": null,
      "outputs": []
    },
    {
      "cell_type": "code",
      "source": [
        "print(books_by_author(books, 'J.D. Salinger'))"
      ],
      "metadata": {
        "colab": {
          "base_uri": "https://localhost:8080/"
        },
        "id": "bzCrDi80KXKa",
        "outputId": "8bd31c5e-e62d-45e1-c70f-257943324672"
      },
      "execution_count": null,
      "outputs": [
        {
          "output_type": "stream",
          "name": "stdout",
          "text": [
            "[{'title': 'The Catcher in the Rye', 'author': 'J.D. Salinger', 'genre': 'Coming-of-age', 'rating': 4.1}]\n"
          ]
        }
      ]
    },
    {
      "cell_type": "code",
      "source": [
        "print(books_by_author(books, 'J'))"
      ],
      "metadata": {
        "colab": {
          "base_uri": "https://localhost:8080/"
        },
        "id": "m-7lgieKLH05",
        "outputId": "00f57f4a-e8e5-41b3-8b32-0db453a5c0bb"
      },
      "execution_count": null,
      "outputs": [
        {
          "output_type": "stream",
          "name": "stdout",
          "text": [
            "This author does not exist!\n",
            "[]\n"
          ]
        }
      ]
    },
    {
      "cell_type": "code",
      "source": [],
      "metadata": {
        "id": "x6CFdkJbLX75"
      },
      "execution_count": null,
      "outputs": []
    }
  ]
}
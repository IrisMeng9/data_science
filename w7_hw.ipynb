{
  "nbformat": 4,
  "nbformat_minor": 0,
  "metadata": {
    "colab": {
      "provenance": []
    },
    "kernelspec": {
      "name": "python3",
      "display_name": "Python 3"
    },
    "language_info": {
      "name": "python"
    }
  },
  "cells": [
    {
      "cell_type": "markdown",
      "source": [
        "1.⁠ ⁠How do you assess the statistical significance of an insight?\n",
        "\n",
        "We can use hypothesis testing to assess the statistical significance. First, we need to formulate the null and alternative hypotheses. Then, we choose an appropriate test and calculate the test statistic. After obtaining the p-value, we compare it with the chosen confidence level and draw a conclusion."
      ],
      "metadata": {
        "id": "iW6WCzhY6xUA"
      }
    },
    {
      "cell_type": "markdown",
      "source": [
        "2.⁠ ⁠What is the Central Limit Theorem? Explain it. Why is it important?\n",
        "\n",
        "If we draw samples from the population randomly and independently, as the sample size increases, the distribution of the sample mean will be normally distributed, regardless of the pupulation's orginal distribution.   \n",
        "This is important because it allows us to use normal distribution-based methods (like confidence intervals and hypothesis testing) even when the underlying data is not normally distributed, as long as the sample size is large enough."
      ],
      "metadata": {
        "id": "a-ty0x4b67Vx"
      }
    },
    {
      "cell_type": "markdown",
      "source": [
        "3.⁠ ⁠What is the statistical power?\n",
        "\n",
        "Statistical power is the probability that a statistical test correctly rejects the null hypothesis when it is false. In other words, it measures how likely the test is to detect a real effect.\n",
        "\n",
        "\n"
      ],
      "metadata": {
        "id": "cUujzzST68pK"
      }
    },
    {
      "cell_type": "markdown",
      "source": [
        "4.⁠ ⁠How do you control for biases?\n",
        "\n",
        "Potential sources of bias include data collection, sampling, and modeling. To control biases, we should increase randomization during the experiment and apply proper feature selection during modeling."
      ],
      "metadata": {
        "id": "UhNKJV6r68f7"
      }
    },
    {
      "cell_type": "markdown",
      "source": [
        "5.⁠ ⁠What are confounding variables?\n",
        "\n",
        "Confounding variables are external factors that are related to both the independent variable and the dependent variable. They can create a false impression of a relationship between the two, making it appear as though there’s a direct effect when, in fact, the confounder is the real cause."
      ],
      "metadata": {
        "id": "FnsxZamz68Vo"
      }
    },
    {
      "cell_type": "markdown",
      "source": [
        "6.⁠ ⁠What is A/B testing?\n",
        "\n",
        "A/B testing is a method of comparing two versions of a variable to determine which one performs better. In this test, Group A receives the original version, while Group B gets the modified version. The goal is to test changes in a controlled, measurable way to assess their impact on a desired outcome."
      ],
      "metadata": {
        "id": "QopeNT0c68Js"
      }
    },
    {
      "cell_type": "markdown",
      "source": [
        "7.⁠ ⁠What are confidence intervals?\n",
        "\n",
        "Confidence intervals are a range of values used to estimate the true population parameter with a certain level of confidence. It provides a measure of uncertainty around an estimate."
      ],
      "metadata": {
        "id": "6cl8K9ke67qt"
      }
    },
    {
      "cell_type": "code",
      "execution_count": null,
      "metadata": {
        "id": "b1X5IgT_yant"
      },
      "outputs": [],
      "source": []
    }
  ]
}